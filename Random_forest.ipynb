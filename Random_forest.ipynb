{
  "nbformat": 4,
  "nbformat_minor": 0,
  "metadata": {
    "colab": {
      "provenance": []
    },
    "kernelspec": {
      "name": "python3",
      "display_name": "Python 3"
    },
    "language_info": {
      "name": "python"
    }
  },
  "cells": [
    {
      "cell_type": "code",
      "execution_count": null,
      "metadata": {
        "id": "kKAwp00Kh2VG"
      },
      "outputs": [],
      "source": [
        "import pandas as pd\n",
        "import numpy as np\n",
        "import matplotlib.pyplot as plt\n",
        "from sklearn.ensemble import RandomForestRegressor\n",
        "from sklearn.metrics import mean_squared_error, r2_score\n",
        "\n",
        "# Load the dataset\n",
        "data = pd.read_csv('/content/sample_data/california_housing_test.csv')\n",
        "# Select an independent variable and the dependent variable\n",
        "X = data.loc[0:5, [\"housing_median_age\"]]\n",
        "y = data.loc[0:5, \"latitude\"]\n",
        "\n",
        "# Create a Random Forest regression model\n",
        "n_estimators = 100  # Number of decision trees in the forest (adjust as needed)\n",
        "model = RandomForestRegressor(n_estimators=n_estimators)\n",
        "\n",
        "# Fit the model to the data\n",
        "model.fit(X, y)\n",
        "\n",
        "# Predict using the trained model\n",
        "y_pred = model.predict(X)\n",
        "\n",
        "# Calculate Mean Squared Error (MSE) and R-squared\n",
        "mse = mean_squared_error(y, y_pred)\n",
        "r_squared = r2_score(y, y_pred)\n",
        "\n",
        "print(\"Mean Squared Error (MSE):\", mse)\n",
        "print(\"R-squared (Coefficient of Determination):\", r_squared)\n",
        "\n",
        "# Create a scatter plot of actual vs. predicted values\n",
        "plt.scatter(X, y, color='blue', label='Actual')\n",
        "plt.scatter(X, y_pred, color='red', label='Predicted')\n",
        "plt.xlabel(\"Housing Median Age\")\n",
        "plt.ylabel(\"Latitude\")\n",
        "plt.title(\"Random Forest Regression\")\n",
        "plt.legend()\n",
        "plt.show()"
      ]
    }
  ]
}