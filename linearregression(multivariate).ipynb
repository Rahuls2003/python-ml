{
  "nbformat": 4,
  "nbformat_minor": 0,
  "metadata": {
    "colab": {
      "provenance": []
    },
    "kernelspec": {
      "name": "python3",
      "display_name": "Python 3"
    },
    "language_info": {
      "name": "python"
    }
  },
  "cells": [
    {
      "cell_type": "code",
      "execution_count": null,
      "metadata": {
        "id": "OQkQTWubhxMq"
      },
      "outputs": [],
      "source": [
        "import numpy as np\n",
        "import matplotlib.pyplot as plt\n",
        "from sklearn.linear_model import LinearRegression\n",
        "\n",
        "# Sample data (replace this with your own dataset)\n",
        "X = np.array([[1, 2], [2, 3], [3, 4], [4, 5], [5, 6]])  # Independent variables (features)\n",
        "y = np.array([3, 5, 7, 9, 11])  # Dependent variable (target)\n",
        "\n",
        "# Create a linear regression model\n",
        "model = LinearRegression()\n",
        "\n",
        "# Fit the model to the data\n",
        "model.fit(X, y)\n",
        "\n",
        "# Make predictions\n",
        "y_pred = model.predict(X)\n",
        "\n",
        "# Calculate the coefficients (slopes) and intercept\n",
        "coefficients = model.coef_\n",
        "intercept = model.intercept_\n",
        "\n",
        "# Print the coefficients\n",
        "print(\"Coefficients (Slopes):\", coefficients)\n",
        "print(\"Intercept:\", intercept)\n",
        "\n",
        "# Plot the original data and the regression predictions\n",
        "fig = plt.figure()\n",
        "ax = fig.add_subplot(111, projection='3d')  # Create a 3D plot\n",
        "\n",
        "ax.scatter(X[:, 0], X[:, 1], y, c='b', marker='o', label='Data Points')\n",
        "ax.scatter(X[:, 0], X[:, 1], y_pred, c='r', marker='x', label='Predictions')\n",
        "\n",
        "ax.set_xlabel('Feature 1')\n",
        "ax.set_ylabel('Feature 2')\n",
        "ax.set_zlabel('Target')\n",
        "ax.legend()\n",
        "plt.title(\"Multivariate Linear Regression\")\n",
        "plt.show()"
      ]
    }
  ]
}