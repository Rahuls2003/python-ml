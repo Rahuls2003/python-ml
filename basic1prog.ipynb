{
  "nbformat": 4,
  "nbformat_minor": 0,
  "metadata": {
    "colab": {
      "provenance": [],
      "toc_visible": true,
      "authorship_tag": "ABX9TyPXhKIi/6JGzzdHo+LiLolb",
      "include_colab_link": true
    },
    "kernelspec": {
      "name": "python3",
      "display_name": "Python 3"
    },
    "language_info": {
      "name": "python"
    }
  },
  "cells": [
    {
      "cell_type": "markdown",
      "metadata": {
        "id": "view-in-github",
        "colab_type": "text"
      },
      "source": [
        "<a href=\"https://colab.research.google.com/github/Rahuls2003/python-ml/blob/main/basic1prog.ipynb\" target=\"_parent\"><img src=\"https://colab.research.google.com/assets/colab-badge.svg\" alt=\"Open In Colab\"/></a>"
      ]
    },
    {
      "cell_type": "markdown",
      "source": [
        "max of two number\n"
      ],
      "metadata": {
        "id": "Owz6z0Ccwyvo"
      }
    },
    {
      "cell_type": "code",
      "source": [
        "\n",
        "\n",
        "\n",
        "def maximum(a, b):\n",
        "\n",
        "\tif a >= b:\n",
        "\t\treturn a\n",
        "\telse:\n",
        "\t\treturn b\n",
        "\n",
        "# Driver code\n",
        "a = 2\n",
        "b = 4\n",
        "print(maximum(a, b))\n"
      ],
      "metadata": {
        "colab": {
          "base_uri": "https://localhost:8080/"
        },
        "id": "llvXhWdgw1-C",
        "outputId": "7d002aff-ec56-4360-8ff4-4778fe8f55c1"
      },
      "execution_count": 1,
      "outputs": [
        {
          "output_type": "stream",
          "name": "stdout",
          "text": [
            "4\n"
          ]
        }
      ]
    },
    {
      "cell_type": "markdown",
      "source": [
        "area and perimeter of the square"
      ],
      "metadata": {
        "id": "ZU0a1pZ7xI34"
      }
    },
    {
      "cell_type": "code",
      "source": [
        "a=int(input('enter the value of a side'))\n",
        "\n",
        "area=a*a\n",
        "perimeter=4*a\n",
        "print(area)\n",
        "print(perimeter)"
      ],
      "metadata": {
        "colab": {
          "base_uri": "https://localhost:8080/"
        },
        "id": "AHEo11zYxMbG",
        "outputId": "2616219b-017f-41d5-d5c9-81ab190e01cc"
      },
      "execution_count": 4,
      "outputs": [
        {
          "output_type": "stream",
          "name": "stdout",
          "text": [
            "enter the value of a side4\n",
            "16\n",
            "16\n"
          ]
        }
      ]
    },
    {
      "cell_type": "markdown",
      "source": [
        "area of circle\n"
      ],
      "metadata": {
        "id": "qfBCeyP6xyeb"
      }
    },
    {
      "cell_type": "code",
      "source": [
        "r=int(input('enter the value of a radius:'))\n",
        "\n",
        "area=int(3.14*r*r)\n",
        "\n",
        "print(area)\n"
      ],
      "metadata": {
        "colab": {
          "base_uri": "https://localhost:8080/"
        },
        "id": "-jpbAD3fx0Dj",
        "outputId": "ff30a11a-87eb-4420-8205-de8ad7bc4a35"
      },
      "execution_count": 7,
      "outputs": [
        {
          "output_type": "stream",
          "name": "stdout",
          "text": [
            "enter the value of a radius:4\n",
            "50\n"
          ]
        }
      ]
    },
    {
      "cell_type": "markdown",
      "source": [
        "factorial of a number\n"
      ],
      "metadata": {
        "id": "UfUSCtZeyYCp"
      }
    },
    {
      "cell_type": "code",
      "source": [
        "# Python 3 program to find\n",
        "# factorial of given number\n",
        "def factorial(n):\n",
        "\n",
        "\t# single line to find factorial\n",
        "\treturn 1 if (n==1 or n==0) else n * factorial(n - 1)\n",
        "\n",
        "# Driver Code\n",
        "num = 5\n",
        "print(\"Factorial of\",num,\"is\",factorial(num))\n"
      ],
      "metadata": {
        "colab": {
          "base_uri": "https://localhost:8080/"
        },
        "id": "srx8zG-9ygnW",
        "outputId": "162b362f-ca0c-4f4d-8a20-dca9d85770ae"
      },
      "execution_count": 8,
      "outputs": [
        {
          "output_type": "stream",
          "name": "stdout",
          "text": [
            "Factorial of 5 is 120\n"
          ]
        }
      ]
    },
    {
      "cell_type": "markdown",
      "source": [
        "basic calculator"
      ],
      "metadata": {
        "id": "jCEa1egE0G56"
      }
    },
    {
      "cell_type": "code",
      "source": [
        "print(\"*****************CALCULATOR*********************\")\n",
        "a = input(\"\\n\\n\\n\\nenter the first number:\")\n",
        "b = input(\"enter the second number:\")\n",
        "\n",
        "print(\"addition of this two number is:\", int(a) + int(b))\n",
        "print(\"substraction of this two number is:\", int(a) - int(b))\n",
        "print(\"division of this two number is:\", int(a) / int(b))\n",
        "print(\"multiplication of this two number is:\", int(a) * int(b))\n",
        "print(\"floor div of this two number is:\", int(a) // int(b))\n",
        "print(\"exponential of this two number is:\", int(a)**int(b))  #to the power\n"
      ],
      "metadata": {
        "colab": {
          "base_uri": "https://localhost:8080/"
        },
        "id": "uwL6POvk0JHG",
        "outputId": "f8a51fc5-1482-4a00-f682-75664c6a2197"
      },
      "execution_count": 9,
      "outputs": [
        {
          "output_type": "stream",
          "name": "stdout",
          "text": [
            "*****************CALCULATOR*********************\n",
            "\n",
            "\n",
            "\n",
            "\n",
            "enter the first number:8\n",
            "enter the second number:4\n",
            "addition of this two number is: 12\n",
            "substraction of this two number is: 4\n",
            "division of this two number is: 2.0\n",
            "multiplication of this two number is: 32\n",
            "floor div of this two number is: 2\n",
            "exponential of this two number is: 4096\n"
          ]
        }
      ]
    }
  ]
}